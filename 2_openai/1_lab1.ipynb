{
 "cells": [
  {
   "cell_type": "markdown",
   "metadata": {},
   "source": [
    "## Week 2 Day 1\n",
    "\n",
    "And now! Our first look at OpenAI Agents SDK\n",
    "\n",
    "You won't believe how lightweight this is.."
   ]
  },
  {
   "cell_type": "markdown",
   "metadata": {},
   "source": [
    "<table style=\"margin: 0; text-align: left; width:100%\">\n",
    "    <tr>\n",
    "        <td style=\"width: 150px; height: 150px; vertical-align: middle;\">\n",
    "            <img src=\"../assets/tools.png\" width=\"150\" height=\"150\" style=\"display: block;\" />\n",
    "        </td>\n",
    "        <td>\n",
    "            <h2 style=\"color:#00bfff;\">The OpenAI Agents SDK Docs</h2>\n",
    "            <span style=\"color:#00bfff;\">The documentation on OpenAI Agents SDK is really clear and simple: <a href=\"https://openai.github.io/openai-agents-python/\">https://openai.github.io/openai-agents-python/</a> and it's well worth a look.\n",
    "            </span>\n",
    "        </td>\n",
    "    </tr>\n",
    "</table>"
   ]
  },
  {
   "cell_type": "code",
   "execution_count": 1,
   "metadata": {},
   "outputs": [],
   "source": [
    "# The imports\n",
    "\n",
    "from dotenv import load_dotenv\n",
    "from agents import Agent, Runner, trace, OpenAIChatCompletionsModel, AsyncOpenAI"
   ]
  },
  {
   "cell_type": "code",
   "execution_count": 2,
   "metadata": {},
   "outputs": [
    {
     "data": {
      "text/plain": [
       "True"
      ]
     },
     "execution_count": 2,
     "metadata": {},
     "output_type": "execute_result"
    }
   ],
   "source": [
    "# The usual starting point\n",
    "\n",
    "load_dotenv(override=True)"
   ]
  },
  {
   "cell_type": "code",
   "execution_count": 3,
   "metadata": {},
   "outputs": [],
   "source": [
    "\n",
    "# Make an agent with name, instructions, model\n",
    "# Different ways to create and call an agent using agents sdk\n",
    "\n",
    "# Way 1: If using OpenAI GPT models\n",
    " \n",
    "# agent = Agent(name=\"Jokester\", \n",
    "#                 instructions=\"You are a joke teller. Your task is to tell a simple but funny joke about user's input.\", \n",
    "#                 model=\"gpt-4o-mini\")\n",
    "\n",
    "# Way 2: Using custom client for models that supports OpenAI endpoints\n",
    "import os\n",
    "\n",
    "# gemini_client = AsyncOpenAI(\n",
    "#     base_url=os.getenv(\"GEMINI_BASE_URL\"),\n",
    "#     api_key=os.getenv(\"GOOGLE_API_KEY\")\n",
    "# )\n",
    "\n",
    "# agent = Agent(name=\"Jokester\", \n",
    "#                 instructions=\"You are a joke teller. Your task is to tell a simple but funny joke about user's input.\", \n",
    "#                 model=OpenAIChatCompletionsModel(\n",
    "#                     model=\"gemini-2.5-flash\",\n",
    "#                     openai_client=gemini_client))\n",
    "\n",
    "# Way 3: Using litellm integration\n",
    "from agents.extensions.models.litellm_model import LitellmModel\n",
    "\n",
    "agent = Agent(name=\"Jokester\", \n",
    "                instructions=\"You are a joke teller. Your task is to tell a simple but funny joke about user's input.\", \n",
    "                model=LitellmModel(\n",
    "                    model=\"gemini/gemini-2.5-flash\",\n",
    "                    api_key=os.getenv(\"GOOGLE_API_KEY\")))"
   ]
  },
  {
   "cell_type": "code",
   "execution_count": 4,
   "metadata": {},
   "outputs": [
    {
     "name": "stdout",
     "output_type": "stream",
     "text": [
      "Why did the Autonomous AI Agent refuse to go to the meeting?\n",
      "\n",
      "Because it had already optimized its own schedule and determined the meeting was 87% inefficient!\n"
     ]
    }
   ],
   "source": [
    "# Run the joke with Runner.run(agent, prompt) then print final_output\n",
    "\n",
    "with trace(\"Telling a joke\"):\n",
    "    result = await Runner.run(agent, \"Tell a joke about Autonomous AI Agents\")\n",
    "    print(result.final_output)"
   ]
  },
  {
   "cell_type": "markdown",
   "metadata": {},
   "source": [
    "## Now go and look at the trace\n",
    "\n",
    "https://platform.openai.com/traces"
   ]
  },
  {
   "cell_type": "markdown",
   "metadata": {},
   "source": []
  }
 ],
 "metadata": {
  "kernelspec": {
   "display_name": ".venv",
   "language": "python",
   "name": "python3"
  },
  "language_info": {
   "codemirror_mode": {
    "name": "ipython",
    "version": 3
   },
   "file_extension": ".py",
   "mimetype": "text/x-python",
   "name": "python",
   "nbconvert_exporter": "python",
   "pygments_lexer": "ipython3",
   "version": "3.12.7"
  }
 },
 "nbformat": 4,
 "nbformat_minor": 2
}
