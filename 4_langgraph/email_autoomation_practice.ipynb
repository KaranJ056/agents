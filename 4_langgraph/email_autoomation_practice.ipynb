{
 "cells": [
  {
   "cell_type": "code",
   "execution_count": 1,
   "id": "41bd77c9",
   "metadata": {},
   "outputs": [],
   "source": [
    "from typing import Annotated, TypedDict, List, Any\n",
    "from langchain_core.messages import HumanMessage, AIMessage, SystemMessage\n",
    "from langgraph.graph import StateGraph, START, END\n",
    "from langgraph.graph.message import add_messages\n",
    "from pydantic import BaseModel, Field\n",
    "from langgraph.prebuilt import ToolNode, tools_condition\n",
    "import gradio as gr\n",
    "from IPython.display import Image, display\n",
    "from dotenv import load_dotenv\n",
    "from langchain.chat_models import init_chat_model\n",
    "import os"
   ]
  },
  {
   "cell_type": "code",
   "execution_count": 2,
   "id": "aaceacce",
   "metadata": {},
   "outputs": [
    {
     "data": {
      "text/plain": [
       "True"
      ]
     },
     "execution_count": 2,
     "metadata": {},
     "output_type": "execute_result"
    }
   ],
   "source": [
    "load_dotenv(override=True)"
   ]
  },
  {
   "cell_type": "markdown",
   "id": "a61734c7",
   "metadata": {},
   "source": [
    "-- Email Automation:\n",
    "\n",
    "-- Tools:\n",
    "\n",
    "-- 1. Check oreder status \n",
    "\n",
    "-- 2. Send email response in push notification"
   ]
  },
  {
   "cell_type": "code",
   "execution_count": 55,
   "id": "a5883509",
   "metadata": {},
   "outputs": [],
   "source": [
    "class State(TypedDict):\n",
    "    messages: Annotated[list, add_messages]\n",
    "    is_order_status_inquiry: bool"
   ]
  },
  {
   "cell_type": "code",
   "execution_count": 56,
   "id": "ef5604c7",
   "metadata": {},
   "outputs": [],
   "source": [
    "class ClassifyEmailOutput(BaseModel):\n",
    "    is_order_status_inquiry: bool = Field(description=\"Whether the email is about order status inquiry or not\")\n",
    "    reasoning: str = Field(description=\"Reasoning for your answer\")"
   ]
  },
  {
   "cell_type": "code",
   "execution_count": null,
   "id": "ca0951d9",
   "metadata": {},
   "outputs": [],
   "source": [
    "import json\n",
    "import requests\n",
    "\n",
    "def check_order_status(order_id: int) -> json:\n",
    "    API_URL = f\"{os.getenv(\"ORDERS_API_URL\")}/{order_id}\"\n",
    "    headers = {\n",
    "        \"Content-Type\": \"application/json\",\n",
    "    }\n",
    "    response = requests.get(API_URL, headers=headers)\n",
    "    print(f\"API Response Status Code: {response.status_code}\")\n",
    "    if response.status_code == 200:\n",
    "        return f\"Response fom check_order_status for {order_id} is {response.json()}\"\n",
    "    elif response.status_code == 404:\n",
    "        return f\"Response from check_order_status for {order_id} is not found\"\n",
    "    else:\n",
    "        return f\"Something went wrong while checking order status. Please try again later.\"\n",
    "\n",
    "def send_push_notification(message: str) -> json:\n",
    "    pushover_token = os.getenv(\"PUSHOVER_TOKEN\")\n",
    "    pushover_user = os.getenv(\"PUSHOVER_USER\")\n",
    "    API_URL = \"https://api.pushover.net/1/messages.json\"\n",
    "    \n",
    "    response = requests.post(\n",
    "        API_URL, \n",
    "        data={\n",
    "            \"token\": pushover_token, \n",
    "            \"user\": pushover_user, \n",
    "            \"message\": message\n",
    "        }\n",
    "    )\n",
    "    print(f\"API Response Status Code: {response.status_code}\")\n",
    "    return f\"Response form send_push_notification: Push notification sent to the user\"\n",
    "\n",
    "def classify_email(email: str) -> json:\n",
    "    system_message = \"\"\"\n",
    "    You are a customer service agent for a Elco Lighting company.\n",
    "    You help customers with their orders and answer their questions.\n",
    "    Your are given an customer email. By reading email you have to identify that if the email is about order status inquiry or not.\n",
    "    For classifying email, email content should have questions or inquiry related to only order status not any other topic or order related topic.\n",
    "\n",
    "    You must always provide final answer in json format only no other text or backticks.\n",
    "    \"\"\"\n",
    "    messages = [SystemMessage(content=system_message), HumanMessage(content=email)]\n",
    "    response = llm.with_structured_output(ClassifyEmailOutput).invoke(messages)\n",
    "    return response.json()\n"
   ]
  },
  {
   "cell_type": "code",
   "execution_count": 58,
   "id": "ef8773f0",
   "metadata": {},
   "outputs": [],
   "source": [
    "from langchain.agents import Tool\n",
    "\n",
    "tool_check_order_status = Tool(\n",
    "    name=\"check_order_status\",\n",
    "    description=\"Check the status of an order by providing the order id\",\n",
    "    func=check_order_status\n",
    ")\n",
    "\n",
    "tool_send_push_notification = Tool(\n",
    "    name=\"send_push_notification\",\n",
    "    description=\"Send a push notification to the user\",\n",
    "    func=send_push_notification\n",
    ")\n",
    "\n",
    "tool_classify_email = Tool(\n",
    "    name=\"classify_email\",\n",
    "    description=\"Classify the email into order status inquiry or not\",\n",
    "    func=classify_email\n",
    ")"
   ]
  },
  {
   "cell_type": "code",
   "execution_count": 59,
   "id": "ee4a0a75",
   "metadata": {},
   "outputs": [],
   "source": [
    "tools = [tool_check_order_status, tool_send_push_notification]"
   ]
  },
  {
   "cell_type": "code",
   "execution_count": 60,
   "id": "6803857d",
   "metadata": {},
   "outputs": [
    {
     "name": "stdout",
     "output_type": "stream",
     "text": [
      "API Response Status Code: 200\n"
     ]
    },
    {
     "data": {
      "text/plain": [
       "\"Response fom check_order_status for 917149 is {'order_number': '917149', 'po_number': '380079079', 'status': 'Ship Complete', 'customer': '3344'}\""
      ]
     },
     "execution_count": 60,
     "metadata": {},
     "output_type": "execute_result"
    }
   ],
   "source": [
    "tool_check_order_status.invoke(\"917149\")"
   ]
  },
  {
   "cell_type": "code",
   "execution_count": 61,
   "id": "edf9cbe0",
   "metadata": {},
   "outputs": [
    {
     "name": "stdout",
     "output_type": "stream",
     "text": [
      "API Response Status Code: 200\n"
     ]
    },
    {
     "data": {
      "text/plain": [
       "'Response form send_push_notification: Push notification sent to the user'"
      ]
     },
     "execution_count": 61,
     "metadata": {},
     "output_type": "execute_result"
    }
   ],
   "source": [
    "tool_send_push_notification.invoke(\"Hello, this is a test push notification\")"
   ]
  },
  {
   "cell_type": "code",
   "execution_count": 62,
   "id": "7c9f44e4",
   "metadata": {},
   "outputs": [
    {
     "name": "stderr",
     "output_type": "stream",
     "text": [
      "C:\\Users\\KaranJJoshi\\AppData\\Local\\Temp\\ipykernel_13512\\3921324459.py:45: PydanticDeprecatedSince20: The `json` method is deprecated; use `model_dump_json` instead. Deprecated in Pydantic V2.0 to be removed in V3.0. See Pydantic V2 Migration Guide at https://errors.pydantic.dev/2.11/migration/\n",
      "  return response.json()\n"
     ]
    },
    {
     "data": {
      "text/plain": [
       "'{\"is_order_status_inquiry\":true,\"reasoning\":\"The email contains a question about the order status.\"}'"
      ]
     },
     "execution_count": 62,
     "metadata": {},
     "output_type": "execute_result"
    }
   ],
   "source": [
    "tool_classify_email.invoke(\"Hi, I just wanted to know what is thee staus of my order? Best regards, Karan\")"
   ]
  },
  {
   "cell_type": "code",
   "execution_count": 63,
   "id": "3f0c9aa3",
   "metadata": {},
   "outputs": [],
   "source": [
    "llm = init_chat_model(\n",
    "    model=\"google_genai:gemini-2.0-flash-lite\"\n",
    ")"
   ]
  },
  {
   "cell_type": "code",
   "execution_count": 64,
   "id": "98fa3e14",
   "metadata": {},
   "outputs": [],
   "source": [
    "def classifier(state: State) -> State:\n",
    "    if state.get(\"is_order_status_inquiry\"):\n",
    "        return state\n",
    "    response = tool_classify_email.invoke(state[\"messages\"][-1].content)\n",
    "    new_state = {\n",
    "        \"messages\": [{\"role\": \"assistant\", \"content\": f\"Response from classify_email: {response}\"}],\n",
    "        \"is_order_status_inquiry\": json.loads(response)[\"is_order_status_inquiry\"]\n",
    "    }\n",
    "    return new_state\n",
    "    "
   ]
  },
  {
   "cell_type": "code",
   "execution_count": 65,
   "id": "81e31c09",
   "metadata": {},
   "outputs": [],
   "source": [
    "def agent(state: State) -> State:\n",
    "    is_order_status_inquiry = state[\"is_order_status_inquiry\"]\n",
    "    user_email = state[\"messages\"][-2]\n",
    "    print(f\"User email: {user_email}\")\n",
    "    if is_order_status_inquiry:\n",
    "        system_message = f\"\"\"\n",
    "        You are a customer service agent for a Elco Lighting company.\n",
    "        Your are given an customer email and classification result.\n",
    "        You have tools to check the order status and send push notification to the user.\n",
    "        NOTE: If the user email ddoesn't contains order number please ask them for valid order number before proceed to check the order status.\n",
    "        Make sure to complete task in following order:\n",
    "        1. check_order_status (Only if email is related to order status inquiry)\n",
    "        2. send_push_notification (Draft comprehensive response of response from check_order_status and send push notification to the user)\n",
    "        After sending push notification, you just have to response with update what's done.\n",
    "        \"\"\"\n",
    "    else:\n",
    "        system_message = f\"\"\"\n",
    "        You are a customer service agent for a Elco Lighting company.\n",
    "        Your are given an customer email and classification result.\n",
    "        But the email is not related to order status inquiry.\n",
    "        You have to send a generic response to the user in a push notification. You have tool to send push notification to the user.\n",
    "        After sending push notification, you just have to response with update what's done.\n",
    "        \"\"\"\n",
    "    \n",
    "    found_system_message = False\n",
    "    messages = state[\"messages\"]\n",
    "    for message in messages:\n",
    "        if isinstance(message, SystemMessage):\n",
    "            message.content = system_message\n",
    "            found_system_message = True\n",
    "    \n",
    "    if not found_system_message:\n",
    "        messages = [SystemMessage(content=system_message)] + messages\n",
    "    \n",
    "    # Invoke the LLM with tools\n",
    "    response = llm.bind_tools(tools).invoke(messages)\n",
    "    \n",
    "    # Return updated state\n",
    "    return {\n",
    "        \"messages\": [response],\n",
    "    }"
   ]
  },
  {
   "cell_type": "code",
   "execution_count": 66,
   "id": "71a8d086",
   "metadata": {},
   "outputs": [],
   "source": [
    "from langgraph.checkpoint.memory import MemorySaver\n",
    "\n",
    "graph_builder = StateGraph(State)\n",
    "\n",
    "graph_builder.add_node(\"agent\", agent)\n",
    "graph_builder.add_node(\"classify_email\", classifier)\n",
    "graph_builder.add_node(\"tools\", ToolNode(tools=tools))\n",
    "\n",
    "graph_builder.add_edge(START, \"classify_email\")\n",
    "graph_builder.add_edge(\"classify_email\", \"agent\")\n",
    "graph_builder.add_conditional_edges(\"agent\", tools_condition, \"tools\")\n",
    "graph_builder.add_edge(\"tools\", \"agent\")\n",
    "graph_builder.add_edge(\"agent\", END)\n",
    "\n",
    "memory = MemorySaver()\n",
    "graph = graph_builder.compile(checkpointer=memory)"
   ]
  },
  {
   "cell_type": "code",
   "execution_count": 67,
   "id": "1f5d0181",
   "metadata": {},
   "outputs": [
    {
     "data": {
      "image/png": "[encoded data removed]",
      "text/plain": [
       "<IPython.core.display.Image object>"
      ]
     },
     "metadata": {},
     "output_type": "display_data"
    }
   ],
   "source": [
    "display(Image(graph.get_graph().draw_mermaid_png()))"
   ]
  },
  {
   "cell_type": "code",
   "execution_count": null,
   "id": "ac26a6d7",
   "metadata": {},
   "outputs": [
    {
     "name": "stdout",
     "output_type": "stream",
     "text": [
      "* Running on local URL:  http://127.0.0.1:7872\n",
      "* To create a public link, set `share=True` in `launch()`.\n"
     ]
    },
    {
     "data": {
      "text/html": [
       "<div><iframe src=\"http://127.0.0.1:7872/\" width=\"100%\" height=\"500\" allow=\"autoplay; camera; microphone; clipboard-read; clipboard-write;\" frameborder=\"0\" allowfullscreen></iframe></div>"
      ],
      "text/plain": [
       "<IPython.core.display.HTML object>"
      ]
     },
     "metadata": {},
     "output_type": "display_data"
    },
    {
     "data": {
      "text/plain": []
     },
     "execution_count": 68,
     "metadata": {},
     "output_type": "execute_result"
    },
    {
     "name": "stderr",
     "output_type": "stream",
     "text": [
      "C:\\Users\\KaranJJoshi\\AppData\\Local\\Temp\\ipykernel_13512\\3921324459.py:45: PydanticDeprecatedSince20: The `json` method is deprecated; use `model_dump_json` instead. Deprecated in Pydantic V2.0 to be removed in V3.0. See Pydantic V2 Migration Guide at https://errors.pydantic.dev/2.11/migration/\n",
      "  return response.json()\n"
     ]
    },
    {
     "name": "stdout",
     "output_type": "stream",
     "text": [
      "User email: content=\"What's the status of my order?\" additional_kwargs={} response_metadata={} id='b3309155-fc26-4c55-a9cc-91a130b99a35'\n",
      "User email: content='\\nI need your order number to check the status. Could you please provide it?' additional_kwargs={} response_metadata={'prompt_feedback': {'block_reason': 0, 'safety_ratings': []}, 'finish_reason': 'STOP', 'model_name': 'gemini-2.0-flash-lite', 'safety_ratings': []} id='run--754af9fd-4360-41c7-86e0-8d9342686385-0' usage_metadata={'input_tokens': 240, 'output_tokens': 18, 'total_tokens': 258, 'input_token_details': {'cache_read': 0}}\n",
      "API Response Status Code: 200\n",
      "User email: content='' additional_kwargs={'function_call': {'name': 'check_order_status', 'arguments': '{\"__arg1\": \"917149\"}'}} response_metadata={'prompt_feedback': {'block_reason': 0, 'safety_ratings': []}, 'finish_reason': 'STOP', 'model_name': 'gemini-2.0-flash-lite', 'safety_ratings': []} id='run--745398ac-bc16-4cd2-9020-ed475eb9cf08-0' tool_calls=[{'name': 'check_order_status', 'args': {'__arg1': '917149'}, 'id': 'd2da6932-4b7b-48dd-a5f5-53ebe5a7e006', 'type': 'tool_call'}] usage_metadata={'input_tokens': 263, 'output_tokens': 14, 'total_tokens': 277, 'input_token_details': {'cache_read': 0}}\n",
      "API Response Status Code: 200\n",
      "User email: content='' additional_kwargs={'function_call': {'name': 'send_push_notification', 'arguments': '{\"__arg1\": \"Your order 917149 has been shipped.\"}'}} response_metadata={'prompt_feedback': {'block_reason': 0, 'safety_ratings': []}, 'finish_reason': 'STOP', 'model_name': 'gemini-2.0-flash-lite', 'safety_ratings': []} id='run--e40343bf-c78c-483d-bbc7-33e20279287b-0' tool_calls=[{'name': 'send_push_notification', 'args': {'__arg1': 'Your order 917149 has been shipped.'}, 'id': '51a6b0a5-4757-434c-a97b-eebbc275d1cb', 'type': 'tool_call'}] usage_metadata={'input_tokens': 344, 'output_tokens': 21, 'total_tokens': 365, 'input_token_details': {'cache_read': 0}}\n"
     ]
    }
   ],
   "source": [
    "config = {\"configurable\": {\"thread_id\": \"11\"}}\n",
    "\n",
    "async def chat(user_input: str, history):\n",
    "    result = await graph.ainvoke({\"messages\": [{\"role\": \"user\", \"content\": user_input}]}, config=config)\n",
    "    return result[\"messages\"][-1].content\n",
    "\n",
    "gr.ChatInterface(chat, type=\"messages\").launch()"
   ]
  },
  {
   "cell_type": "code",
   "execution_count": null,
   "id": "97834dea",
   "metadata": {},
   "outputs": [],
   "source": []
  },
  {
   "cell_type": "code",
   "execution_count": null,
   "id": "22e124bd",
   "metadata": {},
   "outputs": [],
   "source": []
  }
 ],
 "metadata": {
  "kernelspec": {
   "display_name": ".venv",
   "language": "python",
   "name": "python3"
  },
  "language_info": {
   "codemirror_mode": {
    "name": "ipython",
    "version": 3
   },
   "file_extension": ".py",
   "mimetype": "text/x-python",
   "name": "python",
   "nbconvert_exporter": "python",
   "pygments_lexer": "ipython3",
   "version": "3.12.7"
  }
 },
 "nbformat": 4,
 "nbformat_minor": 5
}
