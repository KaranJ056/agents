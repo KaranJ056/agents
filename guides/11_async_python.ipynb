{
 "cells": [
  {
   "cell_type": "markdown",
   "id": "5c291475-8c7c-461c-9b12-545a887b2432",
   "metadata": {},
   "source": [
    "# Async Python\n",
    "\n",
    "## A briefing on asynchronous python coding, essential in Agent engineering"
   ]
  },
  {
   "cell_type": "markdown",
   "id": "538fa044",
   "metadata": {},
   "source": [
    "Here is a masterful tutorial by you-know-who with exercises and comparisons.\n",
    "\n",
    "https://chatgpt.com/share/680648b1-b0a0-8012-8449-4f90b540886c\n",
    "\n",
    "This includes how to run async code from a python module.\n",
    "\n",
    "### And now some examples:"
   ]
  },
  {
   "cell_type": "code",
   "execution_count": 4,
   "id": "09f5662a",
   "metadata": {},
   "outputs": [],
   "source": [
    "# Let's define an async function\n",
    "\n",
    "import asyncio\n",
    "\n",
    "async def do_some_work():\n",
    "    print(\"Starting work\")\n",
    "    await asyncio.sleep(2)\n",
    "    print(\"Work complete\")\n"
   ]
  },
  {
   "cell_type": "code",
   "execution_count": 2,
   "id": "07ab3abf",
   "metadata": {},
   "outputs": [
    {
     "data": {
      "text/plain": [
       "<coroutine object do_some_work at 0x0000019F2540B880>"
      ]
     },
     "execution_count": 2,
     "metadata": {},
     "output_type": "execute_result"
    }
   ],
   "source": [
    "# What will this do?\n",
    "\n",
    "do_some_work()"
   ]
  },
  {
   "cell_type": "code",
   "execution_count": 5,
   "id": "6d681b6d",
   "metadata": {},
   "outputs": [
    {
     "name": "stdout",
     "output_type": "stream",
     "text": [
      "Starting work\n",
      "Work complete\n"
     ]
    }
   ],
   "source": [
    "# OK let's try that again!\n",
    "\n",
    "await do_some_work()"
   ]
  },
  {
   "cell_type": "code",
   "execution_count": 6,
   "id": "ea867090",
   "metadata": {},
   "outputs": [
    {
     "name": "stderr",
     "output_type": "stream",
     "text": [
      "C:\\Users\\KaranJJoshi\\AppData\\Local\\Temp\\ipykernel_1068\\1833959015.py:4: RuntimeWarning: coroutine 'do_some_work' was never awaited\n",
      "  do_some_work()\n",
      "RuntimeWarning: Enable tracemalloc to get the object allocation traceback\n",
      "C:\\Users\\KaranJJoshi\\AppData\\Local\\Temp\\ipykernel_1068\\1833959015.py:5: RuntimeWarning: coroutine 'do_some_work' was never awaited\n",
      "  do_some_work()\n",
      "RuntimeWarning: Enable tracemalloc to get the object allocation traceback\n",
      "C:\\Users\\KaranJJoshi\\AppData\\Local\\Temp\\ipykernel_1068\\1833959015.py:6: RuntimeWarning: coroutine 'do_some_work' was never awaited\n",
      "  do_some_work()\n",
      "RuntimeWarning: Enable tracemalloc to get the object allocation traceback\n"
     ]
    }
   ],
   "source": [
    "# What's wrong with this?\n",
    "\n",
    "async def do_a_lot_of_work():\n",
    "    do_some_work()\n",
    "    do_some_work()\n",
    "    do_some_work()\n",
    "\n",
    "await do_a_lot_of_work()"
   ]
  },
  {
   "cell_type": "code",
   "execution_count": 7,
   "id": "e9c75c3f",
   "metadata": {},
   "outputs": [
    {
     "name": "stdout",
     "output_type": "stream",
     "text": [
      "Starting work\n",
      "Work complete\n",
      "Starting work\n",
      "Work complete\n",
      "Starting work\n",
      "Work complete\n"
     ]
    }
   ],
   "source": [
    "# Interesting warning! Let's fix it\n",
    "\n",
    "async def do_a_lot_of_work():\n",
    "    await do_some_work()\n",
    "    await do_some_work()\n",
    "    await do_some_work()\n",
    "\n",
    "await do_a_lot_of_work()"
   ]
  },
  {
   "cell_type": "code",
   "execution_count": 8,
   "id": "720cf3f5",
   "metadata": {},
   "outputs": [
    {
     "name": "stdout",
     "output_type": "stream",
     "text": [
      "Starting work\n",
      "Starting work\n",
      "Starting work\n",
      "Work complete\n",
      "Work complete\n",
      "Work complete\n"
     ]
    }
   ],
   "source": [
    "# And now let's do it in parallel\n",
    "# It's important to recognize that this is not \"multi-threading\" in the way that you may be used to\n",
    "# The asyncio library is running on a single thread, but it's using a loop to switch between tasks while one is waiting\n",
    "\n",
    "async def do_a_lot_of_work_in_parallel():\n",
    "    await asyncio.gather(do_some_work(), do_some_work(), do_some_work())\n",
    "\n",
    "await do_a_lot_of_work_in_parallel()"
   ]
  },
  {
   "cell_type": "markdown",
   "id": "230f85de",
   "metadata": {},
   "source": [
    "### Finally - try writing a python module that calls do_a_lot_of_work_in_parallel\n",
    "\n",
    "See the link at the top; you'll need something like this in your module:\n",
    "\n",
    "```python\n",
    "if __name__ == \"__main__\":\n",
    "    asyncio.run(do_a_lot_of_work_in_parallel())\n",
    "```"
   ]
  },
  {
   "cell_type": "code",
   "execution_count": 13,
   "id": "b8ac02fe",
   "metadata": {},
   "outputs": [
    {
     "name": "stdout",
     "output_type": "stream",
     "text": [
      "Blocking done\n",
      "Blocking done\n",
      "Blocking done\n",
      "Blocking took 3.007016897201538 seconds\n",
      "Non-blocking took 0.0 seconds\n"
     ]
    },
    {
     "name": "stdout",
     "output_type": "stream",
     "text": [
      "Async done\n",
      "Async done\n",
      "Async done\n"
     ]
    }
   ],
   "source": [
    "import time\n",
    "\n",
    "def blocking():\n",
    "    time.sleep(1)\n",
    "    print(\"Blocking done\")\n",
    "\n",
    "async def non_blocking():\n",
    "    await asyncio.sleep(1)\n",
    "    print(\"Async done\")\n",
    "\n",
    "start = time.time()\n",
    "for i in range(3):\n",
    "    blocking()\n",
    "end = time.time()\n",
    "print(f\"Blocking took {end - start} seconds\")\n",
    "\n",
    "start = time.time()\n",
    "asyncio.gather(non_blocking(), non_blocking(), non_blocking())\n",
    "end = time.time()\n",
    "print(f\"Non-blocking took {end - start} seconds\")"
   ]
  },
  {
   "cell_type": "code",
   "execution_count": null,
   "id": "ddb6a625",
   "metadata": {},
   "outputs": [
    {
     "name": "stdout",
     "output_type": "stream",
     "text": [
      "* Running on local URL:  http://127.0.0.1:7862\n",
      "* To create a public link, set `share=True` in `launch()`.\n"
     ]
    },
    {
     "data": {
      "text/html": [
       "<div><iframe src=\"http://127.0.0.1:7862/\" width=\"100%\" height=\"500\" allow=\"autoplay; camera; microphone; clipboard-read; clipboard-write;\" frameborder=\"0\" allowfullscreen></iframe></div>"
      ],
      "text/plain": [
       "<IPython.core.display.HTML object>"
      ]
     },
     "metadata": {},
     "output_type": "display_data"
    },
    {
     "data": {
      "text/plain": []
     },
     "execution_count": 16,
     "metadata": {},
     "output_type": "execute_result"
    },
    {
     "name": "stdout",
     "output_type": "stream",
     "text": [
      "Hello : Karan\n",
      "Goodbye : Karan\n",
      "Created dataset file at: .gradio\\flagged\\dataset1.csv\n"
     ]
    }
   ],
   "source": [
    "import gradio  as gr\n",
    "\n",
    "async def do_work(name):\n",
    "    print(f\"Hello : {name}\")\n",
    "    await asyncio.sleep(1)\n",
    "    print(f\"Goodbye : {name}\")\n",
    "    return f\"Hello : {name}\"\n",
    "\n",
    "gr.Interface(fn=do_work, inputs=gr.Textbox(lines=1, placeholder=\"Enter your name\"), outputs=gr.Textbox(lines=1, placeholder=\"Enter your name\")).launch()\n",
    "\n",
    "# gr.Interface(fn=do_work, inputs=\"text\", outputs=\"text\").launch()"
   ]
  },
  {
   "cell_type": "code",
   "execution_count": 18,
   "id": "541825a8",
   "metadata": {},
   "outputs": [
    {
     "name": "stderr",
     "output_type": "stream",
     "text": [
      "\u001b[2mResolved \u001b[1m224 packages\u001b[0m \u001b[2min 17.92s\u001b[0m\u001b[0m\n",
      "\u001b[2mAudited \u001b[1m210 packages\u001b[0m \u001b[2min 1ms\u001b[0m\u001b[0m\n"
     ]
    }
   ],
   "source": [
    "!uv add aiohttp"
   ]
  },
  {
   "cell_type": "code",
   "execution_count": 23,
   "id": "f2cc6d7e",
   "metadata": {},
   "outputs": [
    {
     "name": "stdout",
     "output_type": "stream",
     "text": [
      "[✖] https://www.cnn.com --> Error: Cannot connect to host www.cnn.com:443 ssl:True [SSLCertVerificationError: (1, '[SSL: CERTIFICATE_VERIFY_FAILED] certificate verify failed: unable to get local issuer certificate (_ssl.c:1000)')]\n",
      "[✔] https://www.bbc.com/news --> BBC News - Breaking news, video and the latest top stories from the U.S. and around the world\n",
      "[✔] https://www.theverge.com --> The Verge\n",
      "[✔] https://techcrunch.com --> TechCrunch | Startup and Technology News\n",
      "[✔] https://www.nytimes.com --> The New York Times - Breaking News, US News, World News and Videos\n"
     ]
    }
   ],
   "source": [
    "import asyncio\n",
    "import aiohttp\n",
    "from bs4 import BeautifulSoup\n",
    "\n",
    "async def fetch_html(session, url):\n",
    "    async with session.get(url) as response:\n",
    "        return await response.text()\n",
    "\n",
    "async def extract_title(session, url):\n",
    "    try:\n",
    "        html = await fetch_html(session, url)\n",
    "        soup = BeautifulSoup(html, 'html.parser')\n",
    "        title = soup.title.string.strip() if soup.title else \"No title found\"\n",
    "        print(f\"[✔] {url} --> {title}\")\n",
    "    except Exception as e:\n",
    "        print(f\"[✖] {url} --> Error: {e}\")\n",
    "\n",
    "async def main():\n",
    "    urls = [\n",
    "        \"https://www.bbc.com/news\",\n",
    "        \"https://www.cnn.com\",\n",
    "        \"https://www.nytimes.com\",\n",
    "        \"https://techcrunch.com\",\n",
    "        \"https://www.theverge.com\",\n",
    "    ]\n",
    "\n",
    "    async with aiohttp.ClientSession() as session:\n",
    "        tasks = [extract_title(session, url) for url in urls]\n",
    "        await asyncio.gather(*tasks)\n",
    "\n",
    "if __name__ == \"__main__\":\n",
    "    await (main())\n"
   ]
  },
  {
   "cell_type": "code",
   "execution_count": null,
   "id": "9d5e8032",
   "metadata": {},
   "outputs": [],
   "source": []
  }
 ],
 "metadata": {
  "kernelspec": {
   "display_name": ".venv",
   "language": "python",
   "name": "python3"
  },
  "language_info": {
   "codemirror_mode": {
    "name": "ipython",
    "version": 3
   },
   "file_extension": ".py",
   "mimetype": "text/x-python",
   "name": "python",
   "nbconvert_exporter": "python",
   "pygments_lexer": "ipython3",
   "version": "3.12.7"
  }
 },
 "nbformat": 4,
 "nbformat_minor": 5
}
